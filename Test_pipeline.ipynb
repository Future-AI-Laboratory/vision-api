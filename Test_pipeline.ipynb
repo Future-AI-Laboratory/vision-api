{
  "nbformat": 4,
  "nbformat_minor": 0,
  "metadata": {
    "colab": {
      "name": "Test_pipeline.ipynb",
      "provenance": [],
      "collapsed_sections": [],
      "authorship_tag": "ABX9TyNstdC4uACHryhx7Mnud+nB",
      "include_colab_link": true
    },
    "kernelspec": {
      "name": "python3",
      "display_name": "Python 3"
    },
    "language_info": {
      "name": "python"
    }
  },
  "cells": [
    {
      "cell_type": "markdown",
      "metadata": {
        "id": "view-in-github",
        "colab_type": "text"
      },
      "source": [
        "<a href=\"https://colab.research.google.com/github/Future-AI-Laboratory/deployment-testing/blob/Review/Test_pipeline.ipynb\" target=\"_parent\"><img src=\"https://colab.research.google.com/assets/colab-badge.svg\" alt=\"Open In Colab\"/></a>"
      ]
    },
    {
      "cell_type": "code",
      "metadata": {
        "id": "V8yJdCKdjxk0"
      },
      "source": [
        "download_link = 'https://data.mendeley.com/public-files/datasets/tywbtsjrjv/files/b4e3a32f-c0bd-4060-81e9-6144231f2520/file_downloaded'"
      ],
      "execution_count": 1,
      "outputs": []
    },
    {
      "cell_type": "code",
      "metadata": {
        "id": "Bq9EZEgtkCpZ"
      },
      "source": [
        "import os"
      ],
      "execution_count": 2,
      "outputs": []
    },
    {
      "cell_type": "code",
      "metadata": {
        "id": "Qo7bDMaWlbJo",
        "colab": {
          "base_uri": "https://localhost:8080/"
        },
        "outputId": "b3fbbba4-abd2-47de-dab1-7a3546c7e42a"
      },
      "source": [
        "\n",
        "command = 'wget '+ download_link\n",
        "os.system(command)"
      ],
      "execution_count": 3,
      "outputs": [
        {
          "output_type": "execute_result",
          "data": {
            "text/plain": [
              "0"
            ]
          },
          "metadata": {
            "tags": []
          },
          "execution_count": 3
        }
      ]
    },
    {
      "cell_type": "code",
      "metadata": {
        "id": "1eK3G_sRbvqM"
      },
      "source": [
        "source = '/content/file_downloaded'"
      ],
      "execution_count": 4,
      "outputs": []
    },
    {
      "cell_type": "code",
      "metadata": {
        "id": "zGy_vJgkb9T0"
      },
      "source": [
        "import zipfile"
      ],
      "execution_count": 5,
      "outputs": []
    },
    {
      "cell_type": "code",
      "metadata": {
        "id": "euAa4jZY9tPB"
      },
      "source": [
        "with zipfile.ZipFile(source, 'r') as zip_ref:\n",
        "        zip_ref.extractall('potato3')"
      ],
      "execution_count": 6,
      "outputs": []
    },
    {
      "cell_type": "code",
      "metadata": {
        "id": "ywloCxBJejVL"
      },
      "source": [
        "import data_analysis as da"
      ],
      "execution_count": 1,
      "outputs": []
    },
    {
      "cell_type": "code",
      "metadata": {
        "id": "upewvYc8Feih"
      },
      "source": [
        "a = da.data_inspection('/content/potato3/Plant_leave_diseases_dataset_with_augmentation', ['Potato___healthy', 'Potato___Late_blight', 'Potato___Early_blight'], 'Potato3')"
      ],
      "execution_count": 2,
      "outputs": []
    },
    {
      "cell_type": "code",
      "metadata": {
        "colab": {
          "base_uri": "https://localhost:8080/"
        },
        "id": "jlCMhtSmFlg0",
        "outputId": "e78f0c09-aa8a-486d-8893-21463756efa1"
      },
      "source": [
        "a.dataset_content()"
      ],
      "execution_count": 3,
      "outputs": [
        {
          "output_type": "stream",
          "text": [
            "Total Disease Classifiers 39\n",
            "\n",
            "Tomato___healthy\n",
            "Potato___healthy\n",
            "Pepper,_bell___Bacterial_spot\n",
            "Apple___Cedar_apple_rust\n",
            "Apple___Black_rot\n",
            "Squash___Powdery_mildew\n",
            "Grape___healthy\n",
            "Peach___Bacterial_spot\n",
            "Apple___healthy\n",
            "Tomato___Target_Spot\n",
            "Blueberry___healthy\n",
            "Potato___Late_blight\n",
            "Tomato___Bacterial_spot\n",
            "Corn___healthy\n",
            "Tomato___Early_blight\n",
            "Orange___Haunglongbing_(Citrus_greening)\n",
            "Soybean___healthy\n",
            "Corn___Northern_Leaf_Blight\n",
            "Tomato___Tomato_mosaic_virus\n",
            "Corn___Common_rust\n",
            "Tomato___Tomato_Yellow_Leaf_Curl_Virus\n",
            "Grape___Esca_(Black_Measles)\n",
            "Tomato___Spider_mites Two-spotted_spider_mite\n",
            "Tomato___Late_blight\n",
            "Grape___Leaf_blight_(Isariopsis_Leaf_Spot)\n",
            "Background_without_leaves\n",
            "Peach___healthy\n",
            "Strawberry___healthy\n",
            "Pepper,_bell___healthy\n",
            "Raspberry___healthy\n",
            "Grape___Black_rot\n",
            "Cherry___healthy\n",
            "Apple___Apple_scab\n",
            "Corn___Cercospora_leaf_spot Gray_leaf_spot\n",
            "Tomato___Septoria_leaf_spot\n",
            "Strawberry___Leaf_scorch\n",
            "Tomato___Leaf_Mold\n",
            "Potato___Early_blight\n",
            "Cherry___Powdery_mildew\n",
            "\n",
            "The available classifiers for Potato3 crop is \n",
            "['Potato___healthy', 'Potato___Late_blight', 'Potato___Early_blight']\n"
          ],
          "name": "stdout"
        }
      ]
    },
    {
      "cell_type": "code",
      "metadata": {
        "colab": {
          "base_uri": "https://localhost:8080/"
        },
        "id": "fCBT8lQO-gyd",
        "outputId": "7ab1c368-12b9-416c-9261-398c24e15f16"
      },
      "source": [
        "label_df, img_df, flag = a.fetch_img_info()"
      ],
      "execution_count": 4,
      "outputs": [
        {
          "output_type": "stream",
          "text": [
            "Potato3 directory names list ['/content/potato3/Plant_leave_diseases_dataset_with_augmentation/Potato___healthy', '/content/potato3/Plant_leave_diseases_dataset_with_augmentation/Potato___Late_blight', '/content/potato3/Plant_leave_diseases_dataset_with_augmentation/Potato___Early_blight']\n",
            "\n",
            "[INFO] Loading images ...\n",
            "[INFO] Processing Potato___healthy\n",
            "[INFO] Processing Potato___Late_blight\n",
            "[INFO] Processing Potato___Early_blight\n"
          ],
          "name": "stdout"
        }
      ]
    },
    {
      "cell_type": "code",
      "metadata": {
        "id": "mjf9sv-fAIN7",
        "colab": {
          "base_uri": "https://localhost:8080/"
        },
        "outputId": "f7a11a96-3a4d-43db-a62d-273bdb868870"
      },
      "source": [
        "flag"
      ],
      "execution_count": 5,
      "outputs": [
        {
          "output_type": "execute_result",
          "data": {
            "text/plain": [
              "True"
            ]
          },
          "metadata": {
            "tags": []
          },
          "execution_count": 5
        }
      ]
    },
    {
      "cell_type": "code",
      "metadata": {
        "id": "1R9FpRPbAKDo",
        "colab": {
          "base_uri": "https://localhost:8080/",
          "height": 80
        },
        "outputId": "4f7a32e9-f187-4f0e-a104-847ac08b8291"
      },
      "source": [
        "label_df"
      ],
      "execution_count": 6,
      "outputs": [
        {
          "output_type": "execute_result",
          "data": {
            "text/html": [
              "<div>\n",
              "<style scoped>\n",
              "    .dataframe tbody tr th:only-of-type {\n",
              "        vertical-align: middle;\n",
              "    }\n",
              "\n",
              "    .dataframe tbody tr th {\n",
              "        vertical-align: top;\n",
              "    }\n",
              "\n",
              "    .dataframe thead th {\n",
              "        text-align: right;\n",
              "    }\n",
              "</style>\n",
              "<table border=\"1\" class=\"dataframe\">\n",
              "  <thead>\n",
              "    <tr style=\"text-align: right;\">\n",
              "      <th></th>\n",
              "      <th>Potato___healthy</th>\n",
              "      <th>Potato___Late_blight</th>\n",
              "      <th>Potato___Early_blight</th>\n",
              "    </tr>\n",
              "  </thead>\n",
              "  <tbody>\n",
              "    <tr>\n",
              "      <th>0</th>\n",
              "      <td>1000</td>\n",
              "      <td>1000</td>\n",
              "      <td>1000</td>\n",
              "    </tr>\n",
              "  </tbody>\n",
              "</table>\n",
              "</div>"
            ],
            "text/plain": [
              "  Potato___healthy Potato___Late_blight Potato___Early_blight\n",
              "0             1000                 1000                  1000"
            ]
          },
          "metadata": {
            "tags": []
          },
          "execution_count": 6
        }
      ]
    },
    {
      "cell_type": "code",
      "metadata": {
        "id": "CjEb9kj0FtFn",
        "colab": {
          "base_uri": "https://localhost:8080/",
          "height": 1000
        },
        "outputId": "9e0e7a2d-5757-44d3-b52d-59eb9d04b492"
      },
      "source": [
        "a.distribution_vis()"
      ],
      "execution_count": 7,
      "outputs": [
        {
          "output_type": "display_data",
          "data": {
            "image/png": "[encoded data removed]",
            "text/plain": [
              "<Figure size 1080x360 with 1 Axes>"
            ]
          },
          "metadata": {
            "tags": [],
            "needs_background": "light"
          }
        },
        {
          "output_type": "display_data",
          "data": {
            "image/png": "[encoded data removed]",
            "text/plain": [
              "<Figure size 1080x360 with 1 Axes>"
            ]
          },
          "metadata": {
            "tags": [],
            "needs_background": "light"
          }
        },
        {
          "output_type": "stream",
          "text": [
            "Image shape comparison between different categories \n",
            "\n",
            "Shape          Label                \n",
            "(256, 256, 3)  Potato___Late_blight     1000\n",
            "               Potato___Early_blight    1000\n",
            "(204, 204, 3)  Potato___healthy          848\n",
            "(256, 256, 3)  Potato___healthy          152\n",
            "dtype: int64\n",
            "\n",
            "There are imbalances in image shapes!\n"
          ],
          "name": "stdout"
        },
        {
          "output_type": "display_data",
          "data": {
            "image/png": "[encoded data removed]",
            "text/plain": [
              "<Figure size 720x720 with 3 Axes>"
            ]
          },
          "metadata": {
            "tags": [],
            "needs_background": "light"
          }
        }
      ]
    },
    {
      "cell_type": "code",
      "metadata": {
        "id": "Q2j1W-aJTFAH"
      },
      "source": [
        "from keras_preprocessing.image import ImageDataGenerator as IG"
      ],
      "execution_count": 8,
      "outputs": []
    },
    {
      "cell_type": "code",
      "metadata": {
        "id": "wNO0ii4Jj2vC"
      },
      "source": [
        "import data_preperation as dp"
      ],
      "execution_count": 9,
      "outputs": []
    },
    {
      "cell_type": "code",
      "metadata": {
        "id": "FsfHQXbGtoZP"
      },
      "source": [
        "p = dp.data_preperation(img_df, label_df, ['Image', 'Label'], classifiers=['Potato___healthy', 'Potato___Late_blight', 'Potato___Early_blight'])"
      ],
      "execution_count": 10,
      "outputs": []
    },
    {
      "cell_type": "code",
      "metadata": {
        "colab": {
          "base_uri": "https://localhost:8080/"
        },
        "id": "IAYE01jkuAvh",
        "outputId": "69166a8b-d6b2-4534-802f-a689d3055931"
      },
      "source": [
        "train, test = p.stratified_split()"
      ],
      "execution_count": 11,
      "outputs": [
        {
          "output_type": "stream",
          "text": [
            "No mismatch is there in the image and label list, check passed!\n"
          ],
          "name": "stdout"
        }
      ]
    },
    {
      "cell_type": "code",
      "metadata": {
        "colab": {
          "base_uri": "https://localhost:8080/",
          "height": 630
        },
        "id": "WTX5eISxuEYY",
        "outputId": "74b61fb3-03f8-472c-be0c-a5ee0b8344e0"
      },
      "source": [
        "p.train_test_distribution_check()"
      ],
      "execution_count": 12,
      "outputs": [
        {
          "output_type": "stream",
          "text": [
            "Label check is done for train and test dataframe, check passed!\n",
            "\n",
            "Train distribution\n",
            "Potato___Early_blight    900\n",
            "Potato___healthy         900\n",
            "Potato___Late_blight     900\n",
            "Name: Label, dtype: int64\n",
            "\n",
            "Test distribution\n",
            "Potato___Early_blight    100\n",
            "Potato___healthy         100\n",
            "Potato___Late_blight     100\n",
            "Name: Label, dtype: int64\n",
            "\n",
            "Stratified train-test split check is passed!\n"
          ],
          "name": "stdout"
        },
        {
          "output_type": "display_data",
          "data": {
            "image/png": "[encoded data removed]",
            "text/plain": [
              "<Figure size 1080x360 with 2 Axes>"
            ]
          },
          "metadata": {
            "tags": [],
            "needs_background": "light"
          }
        }
      ]
    },
    {
      "cell_type": "code",
      "metadata": {
        "id": "gxsy6eMdhadg"
      },
      "source": [
        "train['Label'].value_counts()['Potato___healthy']/test['Label'].value_counts()['Potato___healthy']"
      ],
      "execution_count": null,
      "outputs": []
    },
    {
      "cell_type": "code",
      "metadata": {
        "id": "FhYKseMenaGW"
      },
      "source": [
        ""
      ],
      "execution_count": null,
      "outputs": []
    }
  ]
}