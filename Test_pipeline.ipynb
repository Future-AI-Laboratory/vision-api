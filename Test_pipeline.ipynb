{
  "nbformat": 4,
  "nbformat_minor": 0,
  "metadata": {
    "colab": {
      "name": "Test_pipeline.ipynb",
      "provenance": [],
      "collapsed_sections": [],
      "authorship_tag": "ABX9TyM5Q7lF0C+8K8YfR+2EI+er",
      "include_colab_link": true
    },
    "kernelspec": {
      "name": "python3",
      "display_name": "Python 3"
    },
    "language_info": {
      "name": "python"
    }
  },
  "cells": [
    {
      "cell_type": "markdown",
      "metadata": {
        "id": "view-in-github",
        "colab_type": "text"
      },
      "source": [
        "<a href=\"https://colab.research.google.com/github/Future-AI-Laboratory/deployment-testing/blob/Review/Test_pipeline.ipynb\" target=\"_parent\"><img src=\"https://colab.research.google.com/assets/colab-badge.svg\" alt=\"Open In Colab\"/></a>"
      ]
    },
    {
      "cell_type": "code",
      "metadata": {
        "id": "V8yJdCKdjxk0"
      },
      "source": [
        "download_link = 'https://data.mendeley.com/public-files/datasets/tywbtsjrjv/files/b4e3a32f-c0bd-4060-81e9-6144231f2520/file_downloaded'"
      ],
      "execution_count": 1,
      "outputs": []
    },
    {
      "cell_type": "code",
      "metadata": {
        "id": "Bq9EZEgtkCpZ"
      },
      "source": [
        "import os"
      ],
      "execution_count": 2,
      "outputs": []
    },
    {
      "cell_type": "code",
      "metadata": {
        "id": "Qo7bDMaWlbJo"
      },
      "source": [
        "command = 'wget '+ download_link\n",
        "os.system(command)"
      ],
      "execution_count": null,
      "outputs": []
    },
    {
      "cell_type": "code",
      "metadata": {
        "id": "1eK3G_sRbvqM"
      },
      "source": [
        "source = '/content/file_downloaded'"
      ],
      "execution_count": null,
      "outputs": []
    },
    {
      "cell_type": "code",
      "metadata": {
        "id": "zGy_vJgkb9T0"
      },
      "source": [
        "import zipfile"
      ],
      "execution_count": null,
      "outputs": []
    },
    {
      "cell_type": "code",
      "metadata": {
        "id": "euAa4jZY9tPB"
      },
      "source": [
        "with zipfile.ZipFile(source, 'r') as zip_ref:\n",
        "        zip_ref.extractall('potato')"
      ],
      "execution_count": null,
      "outputs": []
    },
    {
      "cell_type": "code",
      "metadata": {
        "id": "ywloCxBJejVL"
      },
      "source": [
        "import data_analysis as da"
      ],
      "execution_count": 1,
      "outputs": []
    },
    {
      "cell_type": "code",
      "metadata": {
        "id": "upewvYc8Feih",
        "colab": {
          "base_uri": "https://localhost:8080/"
        },
        "outputId": "9b35481b-7fbc-466c-8a29-61cd7c66b5d3"
      },
      "source": [
        "a = da.data_inspection('/content/potato/Plant_leave_diseases_dataset_with_augmentation', 'new14', ['Potato___healthy', 'Potato___Late_blight', 'Potato___Early_blight'], 'Potato')"
      ],
      "execution_count": 2,
      "outputs": [
        {
          "output_type": "stream",
          "text": [
            "\"new14\" is already present to copy the images as a whole!\n",
            "All the image names in the destination folder will be 4 digit numbers!\n"
          ],
          "name": "stdout"
        }
      ]
    },
    {
      "cell_type": "code",
      "metadata": {
        "colab": {
          "base_uri": "https://localhost:8080/"
        },
        "id": "jlCMhtSmFlg0",
        "outputId": "74ea49e3-a486-48b1-c7ce-92f5bcc9bd15"
      },
      "source": [
        "a.dataset_content()"
      ],
      "execution_count": 3,
      "outputs": [
        {
          "output_type": "stream",
          "text": [
            "Total Disease Classifiers 39\n",
            "\n",
            "Tomato___healthy\n",
            "Potato___healthy\n",
            "Pepper,_bell___Bacterial_spot\n",
            "Apple___Cedar_apple_rust\n",
            "Apple___Black_rot\n",
            "Squash___Powdery_mildew\n",
            "Grape___healthy\n",
            "Peach___Bacterial_spot\n",
            "Apple___healthy\n",
            "Tomato___Target_Spot\n",
            "Blueberry___healthy\n",
            "Potato___Late_blight\n",
            "Tomato___Bacterial_spot\n",
            "Corn___healthy\n",
            "Tomato___Early_blight\n",
            "Orange___Haunglongbing_(Citrus_greening)\n",
            "Soybean___healthy\n",
            "Corn___Northern_Leaf_Blight\n",
            "Tomato___Tomato_mosaic_virus\n",
            "Corn___Common_rust\n",
            "Tomato___Tomato_Yellow_Leaf_Curl_Virus\n",
            "Grape___Esca_(Black_Measles)\n",
            "Tomato___Spider_mites Two-spotted_spider_mite\n",
            "Tomato___Late_blight\n",
            "Grape___Leaf_blight_(Isariopsis_Leaf_Spot)\n",
            "Background_without_leaves\n",
            "Peach___healthy\n",
            "Strawberry___healthy\n",
            "Pepper,_bell___healthy\n",
            "Raspberry___healthy\n",
            "Grape___Black_rot\n",
            "Cherry___healthy\n",
            "Apple___Apple_scab\n",
            "Corn___Cercospora_leaf_spot Gray_leaf_spot\n",
            "Tomato___Septoria_leaf_spot\n",
            "Strawberry___Leaf_scorch\n",
            "Tomato___Leaf_Mold\n",
            "Potato___Early_blight\n",
            "Cherry___Powdery_mildew\n",
            "\n",
            "The available classifiers for Potato crop is \n",
            "['Potato___healthy', 'Potato___Late_blight', 'Potato___Early_blight']\n"
          ],
          "name": "stdout"
        }
      ]
    },
    {
      "cell_type": "code",
      "metadata": {
        "colab": {
          "base_uri": "https://localhost:8080/"
        },
        "id": "fCBT8lQO-gyd",
        "outputId": "d32ea283-e671-48cc-bfa4-a3f6b5bfb7ed"
      },
      "source": [
        "label_df, img_df, flag = a.fetch_img_info()"
      ],
      "execution_count": 4,
      "outputs": [
        {
          "output_type": "stream",
          "text": [
            "POTATO directory names list ['/content/potato/Plant_leave_diseases_dataset_with_augmentation/Potato___healthy', '/content/potato/Plant_leave_diseases_dataset_with_augmentation/Potato___Late_blight', '/content/potato/Plant_leave_diseases_dataset_with_augmentation/Potato___Early_blight']\n",
            "\n",
            "[INFO] Loading images ...\n",
            "[INFO] Processing Potato___healthy\n",
            "[INFO] Processing Potato___Late_blight\n",
            "[INFO] Processing Potato___Early_blight\n",
            "All the 3000 images for Potato are copied to image folder successfully, test passed!\n"
          ],
          "name": "stdout"
        }
      ]
    },
    {
      "cell_type": "code",
      "metadata": {
        "id": "G8_aJtT0W1YT",
        "colab": {
          "base_uri": "https://localhost:8080/",
          "height": 416
        },
        "outputId": "18a5f2ab-4e4d-4e11-9d23-561e78bf1fec"
      },
      "source": [
        "img_df"
      ],
      "execution_count": 5,
      "outputs": [
        {
          "output_type": "execute_result",
          "data": {
            "text/html": [
              "<div>\n",
              "<style scoped>\n",
              "    .dataframe tbody tr th:only-of-type {\n",
              "        vertical-align: middle;\n",
              "    }\n",
              "\n",
              "    .dataframe tbody tr th {\n",
              "        vertical-align: top;\n",
              "    }\n",
              "\n",
              "    .dataframe thead th {\n",
              "        text-align: right;\n",
              "    }\n",
              "</style>\n",
              "<table border=\"1\" class=\"dataframe\">\n",
              "  <thead>\n",
              "    <tr style=\"text-align: right;\">\n",
              "      <th></th>\n",
              "      <th>Image</th>\n",
              "      <th>Shape</th>\n",
              "      <th>Label</th>\n",
              "    </tr>\n",
              "  </thead>\n",
              "  <tbody>\n",
              "    <tr>\n",
              "      <th>0</th>\n",
              "      <td>0.jpg</td>\n",
              "      <td>(204, 204, 3)</td>\n",
              "      <td>Potato___healthy</td>\n",
              "    </tr>\n",
              "    <tr>\n",
              "      <th>1</th>\n",
              "      <td>1.jpg</td>\n",
              "      <td>(256, 256, 3)</td>\n",
              "      <td>Potato___healthy</td>\n",
              "    </tr>\n",
              "    <tr>\n",
              "      <th>2</th>\n",
              "      <td>2.jpg</td>\n",
              "      <td>(204, 204, 3)</td>\n",
              "      <td>Potato___healthy</td>\n",
              "    </tr>\n",
              "    <tr>\n",
              "      <th>3</th>\n",
              "      <td>3.jpg</td>\n",
              "      <td>(204, 204, 3)</td>\n",
              "      <td>Potato___healthy</td>\n",
              "    </tr>\n",
              "    <tr>\n",
              "      <th>4</th>\n",
              "      <td>4.jpg</td>\n",
              "      <td>(256, 256, 3)</td>\n",
              "      <td>Potato___healthy</td>\n",
              "    </tr>\n",
              "    <tr>\n",
              "      <th>...</th>\n",
              "      <td>...</td>\n",
              "      <td>...</td>\n",
              "      <td>...</td>\n",
              "    </tr>\n",
              "    <tr>\n",
              "      <th>2995</th>\n",
              "      <td>2995.jpg</td>\n",
              "      <td>(256, 256, 3)</td>\n",
              "      <td>Potato___Early_blight</td>\n",
              "    </tr>\n",
              "    <tr>\n",
              "      <th>2996</th>\n",
              "      <td>2996.jpg</td>\n",
              "      <td>(256, 256, 3)</td>\n",
              "      <td>Potato___Early_blight</td>\n",
              "    </tr>\n",
              "    <tr>\n",
              "      <th>2997</th>\n",
              "      <td>2997.jpg</td>\n",
              "      <td>(256, 256, 3)</td>\n",
              "      <td>Potato___Early_blight</td>\n",
              "    </tr>\n",
              "    <tr>\n",
              "      <th>2998</th>\n",
              "      <td>2998.jpg</td>\n",
              "      <td>(256, 256, 3)</td>\n",
              "      <td>Potato___Early_blight</td>\n",
              "    </tr>\n",
              "    <tr>\n",
              "      <th>2999</th>\n",
              "      <td>2999.jpg</td>\n",
              "      <td>(256, 256, 3)</td>\n",
              "      <td>Potato___Early_blight</td>\n",
              "    </tr>\n",
              "  </tbody>\n",
              "</table>\n",
              "<p>3000 rows × 3 columns</p>\n",
              "</div>"
            ],
            "text/plain": [
              "         Image          Shape                  Label\n",
              "0        0.jpg  (204, 204, 3)       Potato___healthy\n",
              "1        1.jpg  (256, 256, 3)       Potato___healthy\n",
              "2        2.jpg  (204, 204, 3)       Potato___healthy\n",
              "3        3.jpg  (204, 204, 3)       Potato___healthy\n",
              "4        4.jpg  (256, 256, 3)       Potato___healthy\n",
              "...        ...            ...                    ...\n",
              "2995  2995.jpg  (256, 256, 3)  Potato___Early_blight\n",
              "2996  2996.jpg  (256, 256, 3)  Potato___Early_blight\n",
              "2997  2997.jpg  (256, 256, 3)  Potato___Early_blight\n",
              "2998  2998.jpg  (256, 256, 3)  Potato___Early_blight\n",
              "2999  2999.jpg  (256, 256, 3)  Potato___Early_blight\n",
              "\n",
              "[3000 rows x 3 columns]"
            ]
          },
          "metadata": {
            "tags": []
          },
          "execution_count": 5
        }
      ]
    },
    {
      "cell_type": "code",
      "metadata": {
        "id": "2PK2Z5az89PD"
      },
      "source": [
        "import os"
      ],
      "execution_count": 6,
      "outputs": []
    },
    {
      "cell_type": "code",
      "metadata": {
        "colab": {
          "base_uri": "https://localhost:8080/"
        },
        "id": "mBNsYqUMWvyM",
        "outputId": "b3aee261-e723-4b3a-bd2f-6a90924eaf74"
      },
      "source": [
        "len(os.listdir('new14'))"
      ],
      "execution_count": 7,
      "outputs": [
        {
          "output_type": "execute_result",
          "data": {
            "text/plain": [
              "3000"
            ]
          },
          "metadata": {
            "tags": []
          },
          "execution_count": 7
        }
      ]
    },
    {
      "cell_type": "code",
      "metadata": {
        "colab": {
          "base_uri": "https://localhost:8080/",
          "height": 416
        },
        "id": "NHz45XBxyJlC",
        "outputId": "17af8931-c6ee-4480-dfa5-780654d204d7"
      },
      "source": [
        "img_df"
      ],
      "execution_count": 8,
      "outputs": [
        {
          "output_type": "execute_result",
          "data": {
            "text/html": [
              "<div>\n",
              "<style scoped>\n",
              "    .dataframe tbody tr th:only-of-type {\n",
              "        vertical-align: middle;\n",
              "    }\n",
              "\n",
              "    .dataframe tbody tr th {\n",
              "        vertical-align: top;\n",
              "    }\n",
              "\n",
              "    .dataframe thead th {\n",
              "        text-align: right;\n",
              "    }\n",
              "</style>\n",
              "<table border=\"1\" class=\"dataframe\">\n",
              "  <thead>\n",
              "    <tr style=\"text-align: right;\">\n",
              "      <th></th>\n",
              "      <th>Image</th>\n",
              "      <th>Shape</th>\n",
              "      <th>Label</th>\n",
              "    </tr>\n",
              "  </thead>\n",
              "  <tbody>\n",
              "    <tr>\n",
              "      <th>0</th>\n",
              "      <td>0.jpg</td>\n",
              "      <td>(204, 204, 3)</td>\n",
              "      <td>Potato___healthy</td>\n",
              "    </tr>\n",
              "    <tr>\n",
              "      <th>1</th>\n",
              "      <td>1.jpg</td>\n",
              "      <td>(256, 256, 3)</td>\n",
              "      <td>Potato___healthy</td>\n",
              "    </tr>\n",
              "    <tr>\n",
              "      <th>2</th>\n",
              "      <td>2.jpg</td>\n",
              "      <td>(204, 204, 3)</td>\n",
              "      <td>Potato___healthy</td>\n",
              "    </tr>\n",
              "    <tr>\n",
              "      <th>3</th>\n",
              "      <td>3.jpg</td>\n",
              "      <td>(204, 204, 3)</td>\n",
              "      <td>Potato___healthy</td>\n",
              "    </tr>\n",
              "    <tr>\n",
              "      <th>4</th>\n",
              "      <td>4.jpg</td>\n",
              "      <td>(256, 256, 3)</td>\n",
              "      <td>Potato___healthy</td>\n",
              "    </tr>\n",
              "    <tr>\n",
              "      <th>...</th>\n",
              "      <td>...</td>\n",
              "      <td>...</td>\n",
              "      <td>...</td>\n",
              "    </tr>\n",
              "    <tr>\n",
              "      <th>2995</th>\n",
              "      <td>2995.jpg</td>\n",
              "      <td>(256, 256, 3)</td>\n",
              "      <td>Potato___Early_blight</td>\n",
              "    </tr>\n",
              "    <tr>\n",
              "      <th>2996</th>\n",
              "      <td>2996.jpg</td>\n",
              "      <td>(256, 256, 3)</td>\n",
              "      <td>Potato___Early_blight</td>\n",
              "    </tr>\n",
              "    <tr>\n",
              "      <th>2997</th>\n",
              "      <td>2997.jpg</td>\n",
              "      <td>(256, 256, 3)</td>\n",
              "      <td>Potato___Early_blight</td>\n",
              "    </tr>\n",
              "    <tr>\n",
              "      <th>2998</th>\n",
              "      <td>2998.jpg</td>\n",
              "      <td>(256, 256, 3)</td>\n",
              "      <td>Potato___Early_blight</td>\n",
              "    </tr>\n",
              "    <tr>\n",
              "      <th>2999</th>\n",
              "      <td>2999.jpg</td>\n",
              "      <td>(256, 256, 3)</td>\n",
              "      <td>Potato___Early_blight</td>\n",
              "    </tr>\n",
              "  </tbody>\n",
              "</table>\n",
              "<p>3000 rows × 3 columns</p>\n",
              "</div>"
            ],
            "text/plain": [
              "         Image          Shape                  Label\n",
              "0        0.jpg  (204, 204, 3)       Potato___healthy\n",
              "1        1.jpg  (256, 256, 3)       Potato___healthy\n",
              "2        2.jpg  (204, 204, 3)       Potato___healthy\n",
              "3        3.jpg  (204, 204, 3)       Potato___healthy\n",
              "4        4.jpg  (256, 256, 3)       Potato___healthy\n",
              "...        ...            ...                    ...\n",
              "2995  2995.jpg  (256, 256, 3)  Potato___Early_blight\n",
              "2996  2996.jpg  (256, 256, 3)  Potato___Early_blight\n",
              "2997  2997.jpg  (256, 256, 3)  Potato___Early_blight\n",
              "2998  2998.jpg  (256, 256, 3)  Potato___Early_blight\n",
              "2999  2999.jpg  (256, 256, 3)  Potato___Early_blight\n",
              "\n",
              "[3000 rows x 3 columns]"
            ]
          },
          "metadata": {
            "tags": []
          },
          "execution_count": 8
        }
      ]
    },
    {
      "cell_type": "code",
      "metadata": {
        "id": "mjf9sv-fAIN7",
        "colab": {
          "base_uri": "https://localhost:8080/"
        },
        "outputId": "cf182451-7096-4cc1-ea59-12269e726659"
      },
      "source": [
        "flag"
      ],
      "execution_count": 9,
      "outputs": [
        {
          "output_type": "execute_result",
          "data": {
            "text/plain": [
              "True"
            ]
          },
          "metadata": {
            "tags": []
          },
          "execution_count": 9
        }
      ]
    },
    {
      "cell_type": "code",
      "metadata": {
        "id": "1R9FpRPbAKDo",
        "colab": {
          "base_uri": "https://localhost:8080/",
          "height": 80
        },
        "outputId": "f1ee30bf-dbb7-4ab5-ef57-3208e1595d00"
      },
      "source": [
        "label_df"
      ],
      "execution_count": 10,
      "outputs": [
        {
          "output_type": "execute_result",
          "data": {
            "text/html": [
              "<div>\n",
              "<style scoped>\n",
              "    .dataframe tbody tr th:only-of-type {\n",
              "        vertical-align: middle;\n",
              "    }\n",
              "\n",
              "    .dataframe tbody tr th {\n",
              "        vertical-align: top;\n",
              "    }\n",
              "\n",
              "    .dataframe thead th {\n",
              "        text-align: right;\n",
              "    }\n",
              "</style>\n",
              "<table border=\"1\" class=\"dataframe\">\n",
              "  <thead>\n",
              "    <tr style=\"text-align: right;\">\n",
              "      <th></th>\n",
              "      <th>Potato___healthy</th>\n",
              "      <th>Potato___Late_blight</th>\n",
              "      <th>Potato___Early_blight</th>\n",
              "    </tr>\n",
              "  </thead>\n",
              "  <tbody>\n",
              "    <tr>\n",
              "      <th>0</th>\n",
              "      <td>1000</td>\n",
              "      <td>1000</td>\n",
              "      <td>1000</td>\n",
              "    </tr>\n",
              "  </tbody>\n",
              "</table>\n",
              "</div>"
            ],
            "text/plain": [
              "  Potato___healthy Potato___Late_blight Potato___Early_blight\n",
              "0             1000                 1000                  1000"
            ]
          },
          "metadata": {
            "tags": []
          },
          "execution_count": 10
        }
      ]
    },
    {
      "cell_type": "code",
      "metadata": {
        "id": "CjEb9kj0FtFn",
        "colab": {
          "base_uri": "https://localhost:8080/",
          "height": 1000
        },
        "outputId": "8b0080f4-75ae-40f3-ca29-3066e4c4208d"
      },
      "source": [
        "a.distribution_vis()"
      ],
      "execution_count": 11,
      "outputs": [
        {
          "output_type": "display_data",
          "data": {
            "image/png": "[encoded data removed]",
            "text/plain": [
              "<Figure size 1080x360 with 1 Axes>"
            ]
          },
          "metadata": {
            "tags": [],
            "needs_background": "light"
          }
        },
        {
          "output_type": "display_data",
          "data": {
            "image/png": "[encoded data removed]",
            "text/plain": [
              "<Figure size 1080x360 with 1 Axes>"
            ]
          },
          "metadata": {
            "tags": [],
            "needs_background": "light"
          }
        },
        {
          "output_type": "stream",
          "text": [
            "Image shape comparison between different categories \n",
            "\n",
            "Shape          Label                \n",
            "(256, 256, 3)  Potato___Late_blight     1000\n",
            "               Potato___Early_blight    1000\n",
            "(204, 204, 3)  Potato___healthy          848\n",
            "(256, 256, 3)  Potato___healthy          152\n",
            "dtype: int64\n",
            "\n",
            "There are imbalances in image shapes!\n"
          ],
          "name": "stdout"
        },
        {
          "output_type": "display_data",
          "data": {
            "image/png": "[encoded data removed]",
            "text/plain": [
              "<Figure size 720x720 with 3 Axes>"
            ]
          },
          "metadata": {
            "tags": [],
            "needs_background": "light"
          }
        }
      ]
    },
    {
      "cell_type": "code",
      "metadata": {
        "id": "Q2j1W-aJTFAH"
      },
      "source": [
        "from keras_preprocessing.image import ImageDataGenerator as IG"
      ],
      "execution_count": 12,
      "outputs": []
    },
    {
      "cell_type": "code",
      "metadata": {
        "id": "wNO0ii4Jj2vC"
      },
      "source": [
        "import data_preperation as dp"
      ],
      "execution_count": 13,
      "outputs": []
    },
    {
      "cell_type": "code",
      "metadata": {
        "id": "FsfHQXbGtoZP"
      },
      "source": [
        "\n",
        "\n",
        "p = dp.data_preperation(img_df, label_df, ['Image', 'Label'], classifiers=['Potato___healthy', 'Potato___Late_blight', 'Potato___Early_blight'])"
      ],
      "execution_count": 14,
      "outputs": []
    },
    {
      "cell_type": "code",
      "metadata": {
        "colab": {
          "base_uri": "https://localhost:8080/"
        },
        "id": "IAYE01jkuAvh",
        "outputId": "a167c247-1882-4213-fa96-7475a16e3b69"
      },
      "source": [
        "train, valid, test = p.stratified_split()"
      ],
      "execution_count": 15,
      "outputs": [
        {
          "output_type": "stream",
          "text": [
            "No mismatch is there in the image and label list, check passed!\n",
            "1823    1823.jpg\n",
            "2670    2670.jpg\n",
            "2815    2815.jpg\n",
            "2730    2730.jpg\n",
            "2477    2477.jpg\n",
            "          ...   \n",
            "1297    1297.jpg\n",
            "2689    2689.jpg\n",
            "1916    1916.jpg\n",
            "1857    1857.jpg\n",
            "2834    2834.jpg\n",
            "Name: Image, Length: 600, dtype: object 1823     Potato___Late_blight\n",
            "2670    Potato___Early_blight\n",
            "2815    Potato___Early_blight\n",
            "2730    Potato___Early_blight\n",
            "2477    Potato___Early_blight\n",
            "                ...          \n",
            "1297     Potato___Late_blight\n",
            "2689    Potato___Early_blight\n",
            "1916     Potato___Late_blight\n",
            "1857     Potato___Late_blight\n",
            "2834    Potato___Early_blight\n",
            "Name: Label, Length: 600, dtype: object\n"
          ],
          "name": "stdout"
        }
      ]
    },
    {
      "cell_type": "code",
      "metadata": {
        "id": "zkSBNIXKHEKz",
        "colab": {
          "base_uri": "https://localhost:8080/",
          "height": 416
        },
        "outputId": "93aa5242-f22a-4aa5-f9f0-ecb2fa109083"
      },
      "source": [
        "train"
      ],
      "execution_count": 16,
      "outputs": [
        {
          "output_type": "execute_result",
          "data": {
            "text/html": [
              "<div>\n",
              "<style scoped>\n",
              "    .dataframe tbody tr th:only-of-type {\n",
              "        vertical-align: middle;\n",
              "    }\n",
              "\n",
              "    .dataframe tbody tr th {\n",
              "        vertical-align: top;\n",
              "    }\n",
              "\n",
              "    .dataframe thead th {\n",
              "        text-align: right;\n",
              "    }\n",
              "</style>\n",
              "<table border=\"1\" class=\"dataframe\">\n",
              "  <thead>\n",
              "    <tr style=\"text-align: right;\">\n",
              "      <th></th>\n",
              "      <th>Image</th>\n",
              "      <th>Label</th>\n",
              "    </tr>\n",
              "  </thead>\n",
              "  <tbody>\n",
              "    <tr>\n",
              "      <th>1578</th>\n",
              "      <td>1578.jpg</td>\n",
              "      <td>Potato___Late_blight</td>\n",
              "    </tr>\n",
              "    <tr>\n",
              "      <th>2961</th>\n",
              "      <td>2961.jpg</td>\n",
              "      <td>Potato___Early_blight</td>\n",
              "    </tr>\n",
              "    <tr>\n",
              "      <th>2389</th>\n",
              "      <td>2389.jpg</td>\n",
              "      <td>Potato___Early_blight</td>\n",
              "    </tr>\n",
              "    <tr>\n",
              "      <th>1131</th>\n",
              "      <td>1131.jpg</td>\n",
              "      <td>Potato___Late_blight</td>\n",
              "    </tr>\n",
              "    <tr>\n",
              "      <th>1029</th>\n",
              "      <td>1029.jpg</td>\n",
              "      <td>Potato___Late_blight</td>\n",
              "    </tr>\n",
              "    <tr>\n",
              "      <th>...</th>\n",
              "      <td>...</td>\n",
              "      <td>...</td>\n",
              "    </tr>\n",
              "    <tr>\n",
              "      <th>1416</th>\n",
              "      <td>1416.jpg</td>\n",
              "      <td>Potato___Late_blight</td>\n",
              "    </tr>\n",
              "    <tr>\n",
              "      <th>2602</th>\n",
              "      <td>2602.jpg</td>\n",
              "      <td>Potato___Early_blight</td>\n",
              "    </tr>\n",
              "    <tr>\n",
              "      <th>2811</th>\n",
              "      <td>2811.jpg</td>\n",
              "      <td>Potato___Early_blight</td>\n",
              "    </tr>\n",
              "    <tr>\n",
              "      <th>1581</th>\n",
              "      <td>1581.jpg</td>\n",
              "      <td>Potato___Late_blight</td>\n",
              "    </tr>\n",
              "    <tr>\n",
              "      <th>1174</th>\n",
              "      <td>1174.jpg</td>\n",
              "      <td>Potato___Late_blight</td>\n",
              "    </tr>\n",
              "  </tbody>\n",
              "</table>\n",
              "<p>2400 rows × 2 columns</p>\n",
              "</div>"
            ],
            "text/plain": [
              "         Image                  Label\n",
              "1578  1578.jpg   Potato___Late_blight\n",
              "2961  2961.jpg  Potato___Early_blight\n",
              "2389  2389.jpg  Potato___Early_blight\n",
              "1131  1131.jpg   Potato___Late_blight\n",
              "1029  1029.jpg   Potato___Late_blight\n",
              "...        ...                    ...\n",
              "1416  1416.jpg   Potato___Late_blight\n",
              "2602  2602.jpg  Potato___Early_blight\n",
              "2811  2811.jpg  Potato___Early_blight\n",
              "1581  1581.jpg   Potato___Late_blight\n",
              "1174  1174.jpg   Potato___Late_blight\n",
              "\n",
              "[2400 rows x 2 columns]"
            ]
          },
          "metadata": {
            "tags": []
          },
          "execution_count": 16
        }
      ]
    },
    {
      "cell_type": "code",
      "metadata": {
        "id": "1puIlbnWHIm7",
        "colab": {
          "base_uri": "https://localhost:8080/",
          "height": 416
        },
        "outputId": "13871303-7591-45f0-858d-366454106532"
      },
      "source": [
        "valid"
      ],
      "execution_count": 17,
      "outputs": [
        {
          "output_type": "execute_result",
          "data": {
            "text/html": [
              "<div>\n",
              "<style scoped>\n",
              "    .dataframe tbody tr th:only-of-type {\n",
              "        vertical-align: middle;\n",
              "    }\n",
              "\n",
              "    .dataframe tbody tr th {\n",
              "        vertical-align: top;\n",
              "    }\n",
              "\n",
              "    .dataframe thead th {\n",
              "        text-align: right;\n",
              "    }\n",
              "</style>\n",
              "<table border=\"1\" class=\"dataframe\">\n",
              "  <thead>\n",
              "    <tr style=\"text-align: right;\">\n",
              "      <th></th>\n",
              "      <th>Image</th>\n",
              "      <th>Label</th>\n",
              "    </tr>\n",
              "  </thead>\n",
              "  <tbody>\n",
              "    <tr>\n",
              "      <th>578</th>\n",
              "      <td>578.jpg</td>\n",
              "      <td>Potato___healthy</td>\n",
              "    </tr>\n",
              "    <tr>\n",
              "      <th>1133</th>\n",
              "      <td>1133.jpg</td>\n",
              "      <td>Potato___Late_blight</td>\n",
              "    </tr>\n",
              "    <tr>\n",
              "      <th>1613</th>\n",
              "      <td>1613.jpg</td>\n",
              "      <td>Potato___Late_blight</td>\n",
              "    </tr>\n",
              "    <tr>\n",
              "      <th>936</th>\n",
              "      <td>936.jpg</td>\n",
              "      <td>Potato___healthy</td>\n",
              "    </tr>\n",
              "    <tr>\n",
              "      <th>2576</th>\n",
              "      <td>2576.jpg</td>\n",
              "      <td>Potato___Early_blight</td>\n",
              "    </tr>\n",
              "    <tr>\n",
              "      <th>...</th>\n",
              "      <td>...</td>\n",
              "      <td>...</td>\n",
              "    </tr>\n",
              "    <tr>\n",
              "      <th>2016</th>\n",
              "      <td>2016.jpg</td>\n",
              "      <td>Potato___Early_blight</td>\n",
              "    </tr>\n",
              "    <tr>\n",
              "      <th>2499</th>\n",
              "      <td>2499.jpg</td>\n",
              "      <td>Potato___Early_blight</td>\n",
              "    </tr>\n",
              "    <tr>\n",
              "      <th>2710</th>\n",
              "      <td>2710.jpg</td>\n",
              "      <td>Potato___Early_blight</td>\n",
              "    </tr>\n",
              "    <tr>\n",
              "      <th>512</th>\n",
              "      <td>512.jpg</td>\n",
              "      <td>Potato___healthy</td>\n",
              "    </tr>\n",
              "    <tr>\n",
              "      <th>599</th>\n",
              "      <td>599.jpg</td>\n",
              "      <td>Potato___healthy</td>\n",
              "    </tr>\n",
              "  </tbody>\n",
              "</table>\n",
              "<p>300 rows × 2 columns</p>\n",
              "</div>"
            ],
            "text/plain": [
              "         Image                  Label\n",
              "578    578.jpg       Potato___healthy\n",
              "1133  1133.jpg   Potato___Late_blight\n",
              "1613  1613.jpg   Potato___Late_blight\n",
              "936    936.jpg       Potato___healthy\n",
              "2576  2576.jpg  Potato___Early_blight\n",
              "...        ...                    ...\n",
              "2016  2016.jpg  Potato___Early_blight\n",
              "2499  2499.jpg  Potato___Early_blight\n",
              "2710  2710.jpg  Potato___Early_blight\n",
              "512    512.jpg       Potato___healthy\n",
              "599    599.jpg       Potato___healthy\n",
              "\n",
              "[300 rows x 2 columns]"
            ]
          },
          "metadata": {
            "tags": []
          },
          "execution_count": 17
        }
      ]
    },
    {
      "cell_type": "code",
      "metadata": {
        "colab": {
          "base_uri": "https://localhost:8080/",
          "height": 416
        },
        "id": "sUe2tzLkrvCt",
        "outputId": "536ac15a-de64-4937-a8d8-fa9017fcd044"
      },
      "source": [
        "test"
      ],
      "execution_count": 18,
      "outputs": [
        {
          "output_type": "execute_result",
          "data": {
            "text/html": [
              "<div>\n",
              "<style scoped>\n",
              "    .dataframe tbody tr th:only-of-type {\n",
              "        vertical-align: middle;\n",
              "    }\n",
              "\n",
              "    .dataframe tbody tr th {\n",
              "        vertical-align: top;\n",
              "    }\n",
              "\n",
              "    .dataframe thead th {\n",
              "        text-align: right;\n",
              "    }\n",
              "</style>\n",
              "<table border=\"1\" class=\"dataframe\">\n",
              "  <thead>\n",
              "    <tr style=\"text-align: right;\">\n",
              "      <th></th>\n",
              "      <th>Image</th>\n",
              "      <th>Label</th>\n",
              "    </tr>\n",
              "  </thead>\n",
              "  <tbody>\n",
              "    <tr>\n",
              "      <th>2032</th>\n",
              "      <td>2032.jpg</td>\n",
              "      <td>Potato___Early_blight</td>\n",
              "    </tr>\n",
              "    <tr>\n",
              "      <th>570</th>\n",
              "      <td>570.jpg</td>\n",
              "      <td>Potato___healthy</td>\n",
              "    </tr>\n",
              "    <tr>\n",
              "      <th>1519</th>\n",
              "      <td>1519.jpg</td>\n",
              "      <td>Potato___Late_blight</td>\n",
              "    </tr>\n",
              "    <tr>\n",
              "      <th>2716</th>\n",
              "      <td>2716.jpg</td>\n",
              "      <td>Potato___Early_blight</td>\n",
              "    </tr>\n",
              "    <tr>\n",
              "      <th>2784</th>\n",
              "      <td>2784.jpg</td>\n",
              "      <td>Potato___Early_blight</td>\n",
              "    </tr>\n",
              "    <tr>\n",
              "      <th>...</th>\n",
              "      <td>...</td>\n",
              "      <td>...</td>\n",
              "    </tr>\n",
              "    <tr>\n",
              "      <th>2332</th>\n",
              "      <td>2332.jpg</td>\n",
              "      <td>Potato___Early_blight</td>\n",
              "    </tr>\n",
              "    <tr>\n",
              "      <th>1969</th>\n",
              "      <td>1969.jpg</td>\n",
              "      <td>Potato___Late_blight</td>\n",
              "    </tr>\n",
              "    <tr>\n",
              "      <th>2645</th>\n",
              "      <td>2645.jpg</td>\n",
              "      <td>Potato___Early_blight</td>\n",
              "    </tr>\n",
              "    <tr>\n",
              "      <th>273</th>\n",
              "      <td>273.jpg</td>\n",
              "      <td>Potato___healthy</td>\n",
              "    </tr>\n",
              "    <tr>\n",
              "      <th>2484</th>\n",
              "      <td>2484.jpg</td>\n",
              "      <td>Potato___Early_blight</td>\n",
              "    </tr>\n",
              "  </tbody>\n",
              "</table>\n",
              "<p>300 rows × 2 columns</p>\n",
              "</div>"
            ],
            "text/plain": [
              "         Image                  Label\n",
              "2032  2032.jpg  Potato___Early_blight\n",
              "570    570.jpg       Potato___healthy\n",
              "1519  1519.jpg   Potato___Late_blight\n",
              "2716  2716.jpg  Potato___Early_blight\n",
              "2784  2784.jpg  Potato___Early_blight\n",
              "...        ...                    ...\n",
              "2332  2332.jpg  Potato___Early_blight\n",
              "1969  1969.jpg   Potato___Late_blight\n",
              "2645  2645.jpg  Potato___Early_blight\n",
              "273    273.jpg       Potato___healthy\n",
              "2484  2484.jpg  Potato___Early_blight\n",
              "\n",
              "[300 rows x 2 columns]"
            ]
          },
          "metadata": {
            "tags": []
          },
          "execution_count": 18
        }
      ]
    },
    {
      "cell_type": "code",
      "metadata": {
        "colab": {
          "base_uri": "https://localhost:8080/",
          "height": 553
        },
        "id": "811m66lfw6AI",
        "outputId": "c30aadf0-9f7c-4041-db3b-df7f3d84cca5"
      },
      "source": [
        "p.train_test_distribution_check()"
      ],
      "execution_count": 19,
      "outputs": [
        {
          "output_type": "stream",
          "text": [
            "Label check is done for train and test dataframe, check passed!\n",
            "\n",
            "Train distribution\n",
            "Potato___Late_blight     800\n",
            "Potato___Early_blight    800\n",
            "Potato___healthy         800\n",
            "Name: Label, dtype: int64\n",
            "\n",
            "Validation distribution\n",
            "Potato___Late_blight     100\n",
            "Potato___Early_blight    100\n",
            "Potato___healthy         100\n",
            "Name: Label, dtype: int64\n",
            "\n",
            "Test distribution\n",
            "Potato___Late_blight     100\n",
            "Potato___Early_blight    100\n",
            "Potato___healthy         100\n",
            "Name: Label, dtype: int64\n",
            "\n",
            "Stratified train-test split check is passed!\n",
            "\n"
          ],
          "name": "stdout"
        },
        {
          "output_type": "display_data",
          "data": {
            "image/png": "[encoded data removed]",
            "text/plain": [
              "<Figure size 1800x360 with 3 Axes>"
            ]
          },
          "metadata": {
            "tags": [],
            "needs_background": "light"
          }
        }
      ]
    },
    {
      "cell_type": "code",
      "metadata": {
        "id": "pGE4l9q0K58p",
        "colab": {
          "base_uri": "https://localhost:8080/"
        },
        "outputId": "87480d18-9cd4-4370-ab97-3fcf08305604"
      },
      "source": [
        "t, v, ts = p.data_generator(img_folder='new14', class_mode='sparse', classes = {'Potato___healthy':0, 'Potato___Late_blight':1, 'Potato___Early_blight':2})"
      ],
      "execution_count": 20,
      "outputs": [
        {
          "output_type": "stream",
          "text": [
            "Found 2400 validated image filenames belonging to 3 classes.\n",
            "Found 300 validated image filenames belonging to 3 classes.\n",
            "Found 300 validated image filenames belonging to 3 classes.\n"
          ],
          "name": "stdout"
        }
      ]
    },
    {
      "cell_type": "code",
      "metadata": {
        "colab": {
          "base_uri": "https://localhost:8080/"
        },
        "id": "3DC810gyg5vI",
        "outputId": "321e12cf-7529-4e2f-f79e-87ddae1d0602"
      },
      "source": [
        "t.classes.count(1)"
      ],
      "execution_count": 25,
      "outputs": [
        {
          "output_type": "execute_result",
          "data": {
            "text/plain": [
              "800"
            ]
          },
          "metadata": {
            "tags": []
          },
          "execution_count": 25
        }
      ]
    },
    {
      "cell_type": "code",
      "metadata": {
        "colab": {
          "base_uri": "https://localhost:8080/"
        },
        "id": "UtT_VJ_JUl-V",
        "outputId": "80b8b82a-d8bc-40a0-c190-9bb44785abe8"
      },
      "source": [
        "t.class_indices['Potato___healthy']"
      ],
      "execution_count": 21,
      "outputs": [
        {
          "output_type": "execute_result",
          "data": {
            "text/plain": [
              "2"
            ]
          },
          "metadata": {
            "tags": []
          },
          "execution_count": 21
        }
      ]
    },
    {
      "cell_type": "code",
      "metadata": {
        "id": "LNB4hdURfTZA"
      },
      "source": [
        "import tensorflow as tf\n"
      ],
      "execution_count": 28,
      "outputs": []
    },
    {
      "cell_type": "code",
      "metadata": {
        "id": "4-xvQZ-FiC6A"
      },
      "source": [
        "from keras_preprocessing.image import ImageDataGenerator as IG"
      ],
      "execution_count": 29,
      "outputs": []
    },
    {
      "cell_type": "code",
      "metadata": {
        "id": "jSqZI1ykiOXm"
      },
      "source": [
        "IG = IG()"
      ],
      "execution_count": 30,
      "outputs": []
    },
    {
      "cell_type": "code",
      "metadata": {
        "id": "6-aC_unziTNy"
      },
      "source": [
        "IG.flow_from_dataframe(class_names)"
      ],
      "execution_count": null,
      "outputs": []
    },
    {
      "cell_type": "code",
      "metadata": {
        "id": "W-08a__FtTbs"
      },
      "source": [
        "import logging"
      ],
      "execution_count": 21,
      "outputs": []
    },
    {
      "cell_type": "code",
      "metadata": {
        "colab": {
          "base_uri": "https://localhost:8080/"
        },
        "id": "NVquTIKitUra",
        "outputId": "6b016549-9075-4bac-da08-e12d8c13ef7d"
      },
      "source": [
        "try:\n",
        "  1/0\n",
        "except Exception as e:\n",
        "  logging.exception('message')"
      ],
      "execution_count": 22,
      "outputs": [
        {
          "output_type": "stream",
          "text": [
            "ERROR:root:message\n",
            "Traceback (most recent call last):\n",
            "  File \"<ipython-input-22-f7adf7cf011d>\", line 2, in <module>\n",
            "    1/0\n",
            "ZeroDivisionError: division by zero\n"
          ],
          "name": "stderr"
        }
      ]
    },
    {
      "cell_type": "code",
      "metadata": {
        "id": "pqZiophgtb_O"
      },
      "source": [
        ""
      ],
      "execution_count": null,
      "outputs": []
    }
  ]
}